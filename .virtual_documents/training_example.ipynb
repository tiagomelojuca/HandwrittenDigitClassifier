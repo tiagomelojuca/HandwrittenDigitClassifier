


import matplotlib.pyplot as plt
import numpy as np
import matplotlib.pyplot as plt
import struct
import pickle
from utils import *
from dense_neural_class import *





# Reads the MNIST image file and returns a NumPy array with the images.
def load_mnist_images(filename):
    with open(filename, 'rb') as f:
        magic, num_images, rows, cols = struct.unpack('>IIII', f.read(16))
        images = np.frombuffer(f.read(), dtype=np.uint8)
        images = images.reshape(num_images, rows, cols)
    return images

# Reads the MNIST label file and returns a NumPy array with the labels.
def load_mnist_labels(filename):
    with open(filename, 'rb') as f:
        magic, num_labels = struct.unpack('>II', f.read(8))
        labels = np.frombuffer(f.read(), dtype=np.uint8)
    return labels

# Load train set
train_images = load_mnist_images('./mnist/train-images.idx3-ubyte')
train_labels = load_mnist_labels('./mnist/train-labels.idx1-ubyte')
# Load test set
test_images = load_mnist_images('./mnist/t10k-images.idx3-ubyte')
test_labels = load_mnist_labels('./mnist/t10k-labels.idx1-ubyte')
# Check shapes
print(f"Imagens de treino: {train_images.shape}")  # Ex.: (60000, 28, 28)
print(f"Rótulos de treino: {train_labels.shape}")
print(f"Imagens de teste: {test_images.shape}")# Ex.: (60000,)
print(f"Rótulos de test: {test_labels.shape}")





# Putting the data in a best-known format.

# Train set
X = train_images
X = X.reshape(-1,28*28)
Y = train_labels
Y = Y.reshape(-1,1)

# Test set
X_test = test_images
X_test = X_test.reshape(-1,28*28)
Y_test = test_labels
Y_test = Y_test.reshape(-1,1)






# Instantiation of the neural network as model2.
model2 = Dense_Neural_Diy(input_size=784, hidden_layer1_size=50, hidden_layer2_size=20 , output_size=10)





model2.fit(X,Y,learning_rate=0.005, epochs=11, batch_size=60000 )





# Prediction using test set
Y_pred_test = model2.predict(X_test).reshape(-1,1)
# Prediction using train set
Y_hat = model2.predict(X).reshape(-1,1).reshape(-1,1)

print(f'Accuracy on Test: {np.mean(Y_test == Y_pred_test)}')
print(f'Accuracy on Train: {np.mean(Y == Y_hat)}')






model2.improve_train(X,Y, learning_rate=0.005, epochs=61, batch_size=40)


# Prediction using test set
Y_pred_test = model2.predict(X_test).reshape(-1,1)
# Prediction using train set
Y_hat = model2.predict(X).reshape(-1,1).reshape(-1,1)

print(f'Accuracy on Test: {np.mean(Y_test == Y_pred_test)}')
print(f'Accuracy on Train: {np.mean(Y == Y_hat)}')








# Saving the Model
save_model('model_save_test', model2)





# loading
loaded_model = load_model('model_save_test')

# Evaluating
# Prediction using test set
Y_pred_test = loaded_model.predict(X_test).reshape(-1,1)
# Prediction using train set
Y_hat = loaded_model.predict(X).reshape(-1,1).reshape(-1,1)

print(f'Accuracy on Test: {np.mean(Y_test == Y_pred_test)}')
print(f'Accuracy on Train: {np.mean(Y == Y_hat)}')



