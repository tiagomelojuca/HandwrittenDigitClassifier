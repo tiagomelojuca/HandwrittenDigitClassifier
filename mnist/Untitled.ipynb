{
 "cells": [
  {
   "cell_type": "code",
   "execution_count": 2,
   "id": "5584a4a2-5800-4ec6-8fe3-df7d092376b7",
   "metadata": {},
   "outputs": [
    {
     "name": "stdout",
     "output_type": "stream",
     "text": [
      "Imagens de treino: (60000, 28, 28)\n",
      "Rótulos de treino: (60000,)\n"
     ]
    }
   ],
   "source": [
    "import numpy as np\n",
    "import struct\n",
    "\n",
    "def load_mnist_images(filename):\n",
    "    \"\"\"Lê o arquivo de imagens MNIST e retorna um array NumPy com as imagens.\"\"\"\n",
    "    with open(filename, 'rb') as f:\n",
    "        # Ler o cabeçalho do arquivo: primeiro 16 bytes\n",
    "        magic, num_images, rows, cols = struct.unpack('>IIII', f.read(16))\n",
    "        # Ler o restante dos dados e converter para numpy\n",
    "        images = np.frombuffer(f.read(), dtype=np.uint8)\n",
    "        # Reshape para (n_imagens, altura, largura)\n",
    "        images = images.reshape(num_images, rows, cols)\n",
    "    return images\n",
    "\n",
    "def load_mnist_labels(filename):\n",
    "    \"\"\"Lê o arquivo de rótulos MNIST e retorna um array NumPy com os labels.\"\"\"\n",
    "    with open(filename, 'rb') as f:\n",
    "        # Ler o cabeçalho do arquivo: primeiro 8 bytes\n",
    "        magic, num_labels = struct.unpack('>II', f.read(8))\n",
    "        # Ler os rótulos restantes e converter para numpy\n",
    "        labels = np.frombuffer(f.read(), dtype=np.uint8)\n",
    "    return labels\n",
    "\n",
    "# Exemplo de uso:\n",
    "train_images = load_mnist_images('train-images.idx3-ubyte')\n",
    "train_labels = load_mnist_labels('train-labels.idx1-ubyte')\n",
    "\n",
    "print(f\"Imagens de treino: {train_images.shape}\")  # Ex.: (60000, 28, 28)\n",
    "print(f\"Rótulos de treino: {train_labels.shape}\")  # Ex.: (60000,)"
   ]
  },
  {
   "cell_type": "code",
   "execution_count": null,
   "id": "1dbbc1d1-41ec-4aac-b7a8-51a3c8f8a711",
   "metadata": {},
   "outputs": [],
   "source": []
  }
 ],
 "metadata": {
  "kernelspec": {
   "display_name": "Python 3 (ipykernel)",
   "language": "python",
   "name": "python3"
  },
  "language_info": {
   "codemirror_mode": {
    "name": "ipython",
    "version": 3
   },
   "file_extension": ".py",
   "mimetype": "text/x-python",
   "name": "python",
   "nbconvert_exporter": "python",
   "pygments_lexer": "ipython3",
   "version": "3.11.7"
  }
 },
 "nbformat": 4,
 "nbformat_minor": 5
}
